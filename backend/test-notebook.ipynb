{
 "cells": [
  {
   "cell_type": "markdown",
   "id": "1027f406",
   "metadata": {},
   "source": [
    "# Test Jupyter Notebook\n",
    "\n",
    "This is a test notebook to verify the Jupyter execution functionality."
   ]
  },
  {
   "cell_type": "code",
   "execution_count": null,
   "id": "4faea089",
   "metadata": {},
   "outputs": [],
   "source": [
    "# Basic Python code\n",
    "print(\"Hello from Jupyter notebook!\")\n",
    "import math\n",
    "print(f\"The value of pi is: {math.pi}\")"
   ]
  },
  {
   "cell_type": "code",
   "execution_count": null,
   "id": "044447f4",
   "metadata": {},
   "outputs": [],
   "source": [
    "# Simple calculation and visualization\n",
    "import matplotlib.pyplot as plt\n",
    "import numpy as np\n",
    "\n",
    "# Generate data\n",
    "x = np.linspace(0, 2 * np.pi, 100)\n",
    "y = np.sin(x)\n",
    "\n",
    "# Create plot\n",
    "plt.figure(figsize=(10, 6))\n",
    "plt.plot(x, y, 'b-', linewidth=2, label='sin(x)')\n",
    "plt.xlabel('x')\n",
    "plt.ylabel('sin(x)')\n",
    "plt.title('Sine Wave')\n",
    "plt.grid(True)\n",
    "plt.legend()\n",
    "plt.show()"
   ]
  },
  {
   "cell_type": "code",
   "execution_count": null,
   "id": "6ad1999e",
   "metadata": {},
   "outputs": [],
   "source": [
    "# Data analysis example\n",
    "import pandas as pd\n",
    "\n",
    "# Create sample data\n",
    "data = {\n",
    "    'Name': ['Alice', 'Bob', 'Charlie', 'Diana'],\n",
    "    'Age': [25, 30, 35, 28],\n",
    "    'City': ['New York', 'London', 'Tokyo', 'Paris']\n",
    "}\n",
    "\n",
    "df = pd.DataFrame(data)\n",
    "print(\"Sample DataFrame:\")\n",
    "print(df)\n",
    "print(f\"\\nAverage age: {df['Age'].mean()}\")"
   ]
  }
 ],
 "metadata": {
  "language_info": {
   "name": "python"
  }
 },
 "nbformat": 4,
 "nbformat_minor": 5
}

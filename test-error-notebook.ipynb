{
 "cells": [
  {
   "cell_type": "markdown",
   "id": "22448ba7",
   "metadata": {},
   "source": [
    "# Test Notebook with Errors\n",
    "This notebook contains various types of errors to test error handling"
   ]
  },
  {
   "cell_type": "code",
   "execution_count": null,
   "id": "c721393f",
   "metadata": {},
   "outputs": [],
   "source": [
    "# Cell 1: Syntax Error\n",
    "print(\"Hello world\"\n",
    "# Missing closing parenthesis"
   ]
  },
  {
   "cell_type": "code",
   "execution_count": null,
   "id": "33fb5482",
   "metadata": {},
   "outputs": [],
   "source": [
    "# Cell 2: Import Error\n",
    "import nonexistent_module\n",
    "print(\"This won't work\")"
   ]
  },
  {
   "cell_type": "code",
   "execution_count": null,
   "id": "d2186a91",
   "metadata": {},
   "outputs": [],
   "source": [
    "# Cell 3: Successful cell\n",
    "import numpy as np\n",
    "import matplotlib.pyplot as plt\n",
    "\n",
    "x = np.linspace(0, 10, 100)\n",
    "y = np.sin(x)\n",
    "\n",
    "plt.figure(figsize=(8, 4))\n",
    "plt.plot(x, y)\n",
    "plt.title('Sine Wave')\n",
    "plt.xlabel('x')\n",
    "plt.ylabel('sin(x)')\n",
    "plt.grid(True)\n",
    "plt.show()\n",
    "\n",
    "print(\"This cell should work fine!\")"
   ]
  },
  {
   "cell_type": "code",
   "execution_count": null,
   "id": "2567f075",
   "metadata": {},
   "outputs": [],
   "source": [
    "# Cell 4: Runtime Error\n",
    "numbers = [1, 2, 3]\n",
    "print(numbers[10])  # Index out of range"
   ]
  },
  {
   "cell_type": "code",
   "execution_count": null,
   "id": "7f2b8a84",
   "metadata": {},
   "outputs": [],
   "source": [
    "# Cell 5: Another successful cell\n",
    "import pandas as pd\n",
    "\n",
    "data = {'Name': ['Alice', 'Bob', 'Charlie'], 'Age': [25, 30, 35]}\n",
    "df = pd.DataFrame(data)\n",
    "print(df)\n",
    "print(f\"Average age: {df['Age'].mean()}\")"
   ]
  }
 ],
 "metadata": {
  "language_info": {
   "name": "python"
  }
 },
 "nbformat": 4,
 "nbformat_minor": 5
}
